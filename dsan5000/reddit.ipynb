{
  "cells": [
    {
      "cell_type": "raw",
      "metadata": {},
      "source": [
        "---\n",
        "title: \"Text Data\"\n",
        "bibliography: reference.bib\n",
        "editor_options: \n",
        "  chunk_output_type: inline\n",
        "---"
      ],
      "id": "bcb3f26a"
    },
    {
      "cell_type": "markdown",
      "metadata": {},
      "source": [
        "# Sentiment Analysis\n",
        "\n",
        "The NFL subreddit is a useful place to extract text data produced by fans and their reaction to these essential decisions. Like most jobs, the goal of an NFL head coach is not only to win games, but to keep their bosses happy. The size and outspoken nature of NFL fan bases can be a factor in the job security of these coaches, as if a coach loses the fans, their job gets a lot harder. This is where sentiment analysis comes in, as getting an idea of how fans feel about 4th down decisions by certain coaches may give us insights into how they are making their decisions, and whether or not the fans have any influence on the decision making process.\n"
      ],
      "id": "8291d597"
    },
    {
      "cell_type": "code",
      "metadata": {},
      "source": [
        "import praw\n",
        "from sklearn.feature_extraction.text import CountVectorizer\n",
        "import numpy as np\n",
        "\n",
        "reddit = praw.Reddit(\"bot1\")"
      ],
      "id": "62427431",
      "execution_count": null,
      "outputs": []
    },
    {
      "cell_type": "markdown",
      "metadata": {},
      "source": [
        "This allows us to get posts from the NFL subreddit using a search query of \"4th down\" and access the comments of those posts.\n"
      ],
      "id": "3fd4f3cb"
    },
    {
      "cell_type": "code",
      "metadata": {},
      "source": [
        "subreddit = reddit.subreddit(\"nfl\")\n",
        "query = \"4th down\"\n",
        "\n",
        "top_posts = subreddit.search(query, limit=100)\n",
        "urls = []\n",
        "corpus = []\n",
        "\n",
        "for post in top_posts:\n",
        "    urls.append(post.permalink)\n",
        "    \n",
        "url = \"https://www.reddit.com\" + urls[0]\n",
        "\n",
        "submission = reddit.submission(url=url)\n",
        "\n",
        "submission.comments.replace_more(limit=0)\n",
        "for top_level_comment in submission.comments:\n",
        "    corpus.append(top_level_comment.body)\n",
        "\n",
        "vectorizer=CountVectorizer()\n",
        "Xs = vectorizer.fit_transform(corpus)\n",
        "\n",
        "col_names=vectorizer.get_feature_names_out()"
      ],
      "id": "07ed05d5",
      "execution_count": null,
      "outputs": []
    },
    {
      "cell_type": "markdown",
      "metadata": {},
      "source": [
        "The overall sentiment from this brief analysis is a positive one, but the search terms need to be more specific to get any useful information out of this process.\n"
      ],
      "id": "81d181bd"
    },
    {
      "cell_type": "code",
      "metadata": {},
      "source": [
        "from nltk.sentiment import SentimentIntensityAnalyzer\n",
        "\n",
        "overall = []\n",
        "sia = SentimentIntensityAnalyzer()\n",
        "\n",
        "for text in corpus:\n",
        "  score=sia.polarity_scores(text)\n",
        "  overall.append(score['compound'])\n",
        "\n",
        "\n",
        "\n",
        "sum(overall)/len(overall)"
      ],
      "id": "2e7a957c",
      "execution_count": null,
      "outputs": []
    }
  ],
  "metadata": {
    "kernelspec": {
      "display_name": "Python 3",
      "language": "python",
      "name": "python3"
    }
  },
  "nbformat": 4,
  "nbformat_minor": 5
}