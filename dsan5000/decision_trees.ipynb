{
  "cells": [
    {
      "cell_type": "raw",
      "id": "eb5bea6e",
      "metadata": {},
      "source": [
        "---\n",
        "title: Decision Trees\n",
        "format:\n",
        "  html:\n",
        "    code-fold: true\n",
        "    code-summary: Show the code\n",
        "editor_options:\n",
        "  chunk_output_type: inline\n",
        "---"
      ]
    },
    {
      "cell_type": "markdown",
      "id": "d4250f00",
      "metadata": {},
      "source": [
        "The end goal of making these decision trees is to model the decision making process for each coach. To help us better understand the individual trees, we will start by making an \"average\" baseline tree that is built using data from every coach. This classification tree will predict whether or not a coach decides to go for it on a given 4th down scenario. It may help to try this using every 4th down play, as well as with some filters imposed on the data to extract more informative, higher leverage scenarios.\n",
        "\n",
        "# Python\n"
      ]
    },
    {
      "cell_type": "code",
      "execution_count": null,
      "id": "0387b1a3",
      "metadata": {
        "vscode": {
          "languageId": "python"
        }
      },
      "outputs": [],
      "source": [
        "import pandas as pd\n",
        "import seaborn as sns \n",
        "import numpy as np\n",
        "import matplotlib.pyplot as plt\n",
        "from sklearn.metrics import accuracy_score, precision_score, recall_score, confusion_matrix, ConfusionMatrixDisplay"
      ]
    },
    {
      "cell_type": "markdown",
      "id": "0047f599",
      "metadata": {},
      "source": [
        "## Basic Data Exploration\n",
        "\n",
        "We will take another look at our data just so we are familiar with the parameters we are working with.\n"
      ]
    },
    {
      "cell_type": "code",
      "execution_count": null,
      "id": "ca47f888",
      "metadata": {
        "vscode": {
          "languageId": "python"
        }
      },
      "outputs": [],
      "source": [
        "df = pd.read_csv(\"data/df.csv\").drop([\"coach\", \"Unnamed: 0\"], axis=1)\n",
        "summary = pd.DataFrame({\"dtypes\": df.dtypes, \"min\" : df.min(), \"mean\" : df.mean(), \"max\" : df.max()})\n",
        "print(summary)"
      ]
    },
    {
      "cell_type": "code",
      "execution_count": null,
      "id": "43f11a51",
      "metadata": {
        "vscode": {
          "languageId": "python"
        }
      },
      "outputs": [],
      "source": [
        "count_0 = sum(df[\"go\"] == 0)\n",
        "count_1 = sum(df[\"go\"] == 1)\n",
        "total = count_0 + count_1\n",
        "\n",
        "print(\"Number of not go points:\", count_0, count_0/total)\n",
        "print(\"Number of go points:\", count_1, count_1/total)"
      ]
    },
    {
      "cell_type": "markdown",
      "id": "604dbd57",
      "metadata": {},
      "source": [
        "## Isolate Inputs/Output\n"
      ]
    },
    {
      "cell_type": "code",
      "execution_count": null,
      "id": "bf127bfb",
      "metadata": {
        "vscode": {
          "languageId": "python"
        }
      },
      "outputs": [],
      "source": [
        "# Split data into features and target\n",
        "X = df.iloc[:,[0, 1, 2, 3, 11]]\n",
        "Y = df[\"go\"]"
      ]
    },
    {
      "cell_type": "code",
      "execution_count": null,
      "id": "de3abe83",
      "metadata": {
        "vscode": {
          "languageId": "python"
        }
      },
      "outputs": [],
      "source": [
        "# Split data into train and test sets\n",
        "from sklearn.model_selection import train_test_split\n",
        "x_train, x_test, y_train, y_test = train_test_split(X, Y, test_size=0.2, random_state=621)\n",
        "\n",
        "# Check size of train and test splits\n",
        "print(type(x_train), x_train.shape)\n",
        "print(type(y_train), y_train.shape)\n",
        "print(type(x_test), x_test.shape)\n",
        "print(type(y_test), y_test.shape)"
      ]
    },
    {
      "cell_type": "markdown",
      "id": "2ede3fd0",
      "metadata": {},
      "source": [
        "## Training the Model\n"
      ]
    },
    {
      "cell_type": "code",
      "execution_count": null,
      "id": "ad3fb368",
      "metadata": {
        "vscode": {
          "languageId": "python"
        }
      },
      "outputs": [],
      "source": [
        "from sklearn import tree\n",
        "clf = tree.DecisionTreeClassifier(random_state = 621, max_depth = 5)\n",
        "model = clf.fit(x_train, y_train)"
      ]
    },
    {
      "cell_type": "markdown",
      "id": "df5276f1",
      "metadata": {},
      "source": [
        "## Check the Model\n"
      ]
    },
    {
      "cell_type": "code",
      "execution_count": null,
      "id": "c975cf3e",
      "metadata": {
        "vscode": {
          "languageId": "python"
        }
      },
      "outputs": [],
      "source": [
        "yp_train = model.predict(x_train)\n",
        "yp_test = model.predict(x_test)\n",
        "\n",
        "def confusion_plot(y_data, y_pred):\n",
        "    cm = confusion_matrix(y_data, y_pred)\n",
        "    disp = ConfusionMatrixDisplay(confusion_matrix=cm,\n",
        "                                  display_labels=model.classes_)\n",
        "    print(\"ACCURACY: \", accuracy_score(y_data, y_pred))\n",
        "    print(\"NEGATIVE RECALL (Y=0): \", recall_score(y_data, y_pred, pos_label=0))\n",
        "    print(\"NEGATIVE PRECISION (Y=0): \", precision_score(y_data, y_pred, pos_label=0))\n",
        "    print(\"POSITIVE RECALL (Y=1): \", recall_score(y_data, y_pred, pos_label=1))\n",
        "    print(\"POSITIVE PRECISION (Y=1): \", precision_score(y_data, y_pred, pos_label=1))\n",
        "    print(cm)\n",
        "    disp.plot()\n",
        "    plt.show()\n",
        "    \n",
        "print(\"------TRAINING------\")\n",
        "confusion_plot(y_train,yp_train)\n",
        "print(\"------TEST------\")\n",
        "confusion_plot(y_test,yp_test)"
      ]
    },
    {
      "cell_type": "markdown",
      "id": "dae82014",
      "metadata": {},
      "source": [
        "Negative recall and precision are very good, meaning our model is good at predicting when coaches will not go for it, which makes sense. Positive recall and precision, on the other hand, are not nearly as good. It is much harder to predict when coaches will go for it than when they will not go for it.\n",
        "\n",
        "## Visualize the Tree\n"
      ]
    },
    {
      "cell_type": "code",
      "execution_count": null,
      "id": "3c68eca7",
      "metadata": {
        "vscode": {
          "languageId": "python"
        }
      },
      "outputs": [],
      "source": [
        "def plot_tree(model,X,Y):\n",
        "    fig = plt.figure(figsize=(25,20))\n",
        "    _ = tree.plot_tree(model,\n",
        "                    feature_names=X.columns,\n",
        "                    class_names=[str(class_) for class_ in Y.unique()], \n",
        "                        filled=True)\n",
        "    plt.show()\n",
        "\n",
        "plot_tree(model, X, Y)"
      ]
    },
    {
      "cell_type": "markdown",
      "id": "26786b59",
      "metadata": {},
      "source": [
        "## Hyper-parameter tuning\n"
      ]
    },
    {
      "cell_type": "code",
      "execution_count": null,
      "id": "03b7238d",
      "metadata": {
        "vscode": {
          "languageId": "python"
        }
      },
      "outputs": [],
      "source": [
        "test_results=[]\n",
        "train_results=[]\n",
        "\n",
        "for num_layer in range(1,10):\n",
        "    model = tree.DecisionTreeClassifier(max_depth=num_layer)\n",
        "    model = model.fit(x_train, y_train)\n",
        "\n",
        "    yp_train=model.predict(x_train)\n",
        "    yp_test=model.predict(x_test)\n",
        "\n",
        "    # print(y_pred.shape)\n",
        "    test_results.append([num_layer,\n",
        "    accuracy_score(y_test, yp_test),\n",
        "    recall_score(y_test, yp_test,pos_label=0),\n",
        "    recall_score(y_test, yp_test,pos_label=1)])\n",
        "    \n",
        "    train_results.append([num_layer,\n",
        "    accuracy_score(y_train, yp_train),\n",
        "    recall_score(y_train, yp_train,pos_label=0),\n",
        "    recall_score(y_train, yp_train,pos_label=1)])"
      ]
    },
    {
      "cell_type": "code",
      "execution_count": null,
      "id": "7dcaa832",
      "metadata": {
        "vscode": {
          "languageId": "python"
        }
      },
      "outputs": [],
      "source": [
        "plt.cla()\n",
        "ax = sns.lineplot(x=np.asarray(test_results)[:,0],\n",
        "                y=np.asarray(test_results)[:,1],\n",
        "                color=\"red\",\n",
        "                marker=\"o\",\n",
        "                label=\"test\")\n",
        "sns.lineplot(x=np.asarray(train_results)[:,0],\n",
        "                y=np.asarray(train_results)[:,1],\n",
        "                color=\"blue\",\n",
        "                marker=\"o\",\n",
        "                label=\"train\")\n",
        "ax.set(xlabel=\"Number of layers in the decision tree (max_depth)\", ylabel=\"ACCURACY\")\n",
        "plt.legend()\n",
        "plt.show()\n",
        "\n",
        "plt.cla()\n",
        "ax = sns.lineplot(x=np.asarray(test_results)[:,0],\n",
        "                y=np.asarray(test_results)[:,3],\n",
        "                color=\"red\",\n",
        "                marker=\"o\",\n",
        "                label=\"test\")\n",
        "sns.lineplot(x=np.asarray(train_results)[:,0],\n",
        "                y=np.asarray(train_results)[:,3],\n",
        "                color=\"blue\",\n",
        "                marker=\"o\",\n",
        "                label=\"train\")\n",
        "ax.set(xlabel=\"Number of layers in the decision tree (max_depth)\", ylabel=\"POSITIVE RECALL (Y=1)\")\n",
        "plt.legend()\n",
        "plt.show()"
      ]
    },
    {
      "cell_type": "markdown",
      "id": "762a0918",
      "metadata": {},
      "source": [
        "Looks like 4 layers is the optimal `max_depth` parameter.\n"
      ]
    }
  ],
  "metadata": {
    "kernelspec": {
      "display_name": "Python 3 (ipykernel)",
      "language": "python",
      "name": "python3"
    }
  },
  "nbformat": 4,
  "nbformat_minor": 5
}
